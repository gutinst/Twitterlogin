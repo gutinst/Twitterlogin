{
 "cells": [
  {
   "cell_type": "code",
   "execution_count": 10,
   "metadata": {
    "collapsed": false
   },
   "outputs": [
    {
     "data": {
      "text/plain": [
       "'\\n \\nUse Twitter API to grab user information from list of organizations;\\nexport text file\\n \\nUses Twython module to access Twitter API\\n \\n'"
      ]
     },
     "execution_count": 10,
     "metadata": {},
     "output_type": "execute_result"
    }
   ],
   "source": [
    "\"\"\"\n",
    " \n",
    "Use Twitter API to grab user information from list of organizations;\n",
    "export text file\n",
    " \n",
    "Uses Twython module to access Twitter API\n",
    " \n",
    "\"\"\"\n"
   ]
  },
  {
   "cell_type": "code",
   "execution_count": null,
   "metadata": {
    "collapsed": true
   },
   "outputs": [],
   "source": [
    "# REFERENCES\n",
    "# http://social-metrics.org/twitter-user-data/"
   ]
  },
  {
   "cell_type": "code",
   "execution_count": 2,
   "metadata": {
    "collapsed": false
   },
   "outputs": [
    {
     "name": "stdout",
     "output_type": "stream",
     "text": [
      "Collecting Twython\n",
      "  Downloading twython-3.4.0.tar.gz\n",
      "Requirement already satisfied: requests>=2.1.0 in c:\\users\\ling\\anaconda3\\lib\\site-packages (from Twython)\n",
      "Requirement already satisfied: requests_oauthlib>=0.4.0 in c:\\users\\ling\\anaconda3\\lib\\site-packages (from Twython)\n",
      "Requirement already satisfied: oauthlib>=0.6.2 in c:\\users\\ling\\anaconda3\\lib\\site-packages (from requests_oauthlib>=0.4.0->Twython)\n",
      "Building wheels for collected packages: Twython\n",
      "  Running setup.py bdist_wheel for Twython: started\n",
      "  Running setup.py bdist_wheel for Twython: finished with status 'done'\n",
      "  Stored in directory: C:\\Users\\ling\\AppData\\Local\\pip\\Cache\\wheels\\48\\e9\\f5\\a4c968725948c73f71df51a3c6759425358c1eda2dcf2031f4\n",
      "Successfully built Twython\n",
      "Installing collected packages: Twython\n",
      "Successfully installed Twython-3.4.0\n"
     ]
    }
   ],
   "source": [
    "!pip install Twython"
   ]
  },
  {
   "cell_type": "code",
   "execution_count": 3,
   "metadata": {
    "collapsed": false
   },
   "outputs": [],
   "source": [
    "import sys\n",
    "import string\n",
    "import simplejson\n",
    "from twython import Twython\n"
   ]
  },
  {
   "cell_type": "code",
   "execution_count": 7,
   "metadata": {
    "collapsed": true
   },
   "outputs": [],
   "source": [
    "import datetime\n",
    "now = datetime.datetime.now()\n",
    "day=int(now.day)\n",
    "month=int(now.month)\n",
    "year=int(now.year)\n"
   ]
  },
  {
   "cell_type": "code",
   "execution_count": 8,
   "metadata": {
    "collapsed": true
   },
   "outputs": [],
   "source": [
    "# read file\n",
    "\n",
    "with open(\"my_twitter_auth.txt\") as f:\n",
    "    secrets = f.readlines()\n",
    "f.close()"
   ]
  },
  {
   "cell_type": "code",
   "execution_count": 9,
   "metadata": {
    "collapsed": true
   },
   "outputs": [],
   "source": [
    "# load vars\n",
    "\n",
    "CK = secrets[0].rstrip('\\n')\n",
    "CS = secrets[1].rstrip('\\n')\n",
    "AT = secrets[2].rstrip('\\n')\n",
    "AS = secrets[3].rstrip('\\n')"
   ]
  },
  {
   "cell_type": "code",
   "execution_count": null,
   "metadata": {
    "collapsed": true
   },
   "outputs": [],
   "source": []
  }
 ],
 "metadata": {
  "kernelspec": {
   "display_name": "Python 3",
   "language": "python",
   "name": "python3"
  },
  "language_info": {
   "codemirror_mode": {
    "name": "ipython",
    "version": 3
   },
   "file_extension": ".py",
   "mimetype": "text/x-python",
   "name": "python",
   "nbconvert_exporter": "python",
   "pygments_lexer": "ipython3",
   "version": "3.6.0"
  }
 },
 "nbformat": 4,
 "nbformat_minor": 2
}
