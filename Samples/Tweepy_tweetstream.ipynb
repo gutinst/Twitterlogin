{
 "cells": [
  {
   "cell_type": "code",
   "execution_count": 5,
   "metadata": {
    "collapsed": false,
    "scrolled": true
   },
   "outputs": [
    {
     "name": "stdout",
     "output_type": "stream",
     "text": [
      "Requirement already satisfied: tweepy in c:\\users\\ling\\anaconda3\\lib\\site-packages\n",
      "Requirement already satisfied: requests-oauthlib>=0.4.1 in c:\\users\\ling\\anaconda3\\lib\\site-packages (from tweepy)\n",
      "Requirement already satisfied: six>=1.7.3 in c:\\users\\ling\\anaconda3\\lib\\site-packages (from tweepy)\n",
      "Requirement already satisfied: requests>=2.4.3 in c:\\users\\ling\\anaconda3\\lib\\site-packages (from tweepy)\n",
      "Requirement already satisfied: oauthlib>=0.6.2 in c:\\users\\ling\\anaconda3\\lib\\site-packages (from requests-oauthlib>=0.4.1->tweepy)\n"
     ]
    }
   ],
   "source": [
    "!pip install tweepy"
   ]
  },
  {
   "cell_type": "code",
   "execution_count": 31,
   "metadata": {
    "collapsed": false
   },
   "outputs": [
    {
     "name": "stdout",
     "output_type": "stream",
     "text": [
      "Collecting simplejson\n",
      "  Downloading simplejson-3.10.0.tar.gz (77kB)\n",
      "Building wheels for collected packages: simplejson\n",
      "  Running setup.py bdist_wheel for simplejson: started\n",
      "  Running setup.py bdist_wheel for simplejson: finished with status 'done'\n",
      "  Stored in directory: C:\\Users\\ling\\AppData\\Local\\pip\\Cache\\wheels\\43\\c5\\ef\\edcebbb19becffd2ba75bf219afdbb4ca85198b2d909f1b31b\n",
      "Successfully built simplejson\n",
      "Installing collected packages: simplejson\n",
      "Successfully installed simplejson-3.10.0\n"
     ]
    }
   ],
   "source": [
    "!pip install simplejson"
   ]
  },
  {
   "cell_type": "code",
   "execution_count": 1,
   "metadata": {
    "collapsed": true
   },
   "outputs": [],
   "source": [
    "# REFERENCES\n",
    "# https://marcobonzanini.com/2015/03/02/mining-twitter-data-with-python-part-1/\n",
    "# https://www.youtube.com/watch?v=q3I4LreKcR0\n",
    "# "
   ]
  },
  {
   "cell_type": "code",
   "execution_count": null,
   "metadata": {
    "collapsed": true
   },
   "outputs": [],
   "source": [
    "# create a df to store the data\n",
    "tweet_df = pd.DataFrame(index=index, columns=columns)\n",
    "tweet_df = df_.fillna(0) # with 0s rather than NaNs"
   ]
  },
  {
   "cell_type": "code",
   "execution_count": 32,
   "metadata": {
    "collapsed": false
   },
   "outputs": [],
   "source": [
    "# get library\n",
    "import tweepy\n",
    "import random\n",
    "import os\n",
    "import csv\n",
    "import simplejson as json"
   ]
  },
  {
   "cell_type": "code",
   "execution_count": 11,
   "metadata": {
    "collapsed": true
   },
   "outputs": [],
   "source": [
    "# read file\n",
    "\n",
    "with open(\"my_twitter_auth.txt\") as f:\n",
    "    secrets = f.readlines()\n",
    "f.close()\n",
    "    "
   ]
  },
  {
   "cell_type": "code",
   "execution_count": 14,
   "metadata": {
    "collapsed": false
   },
   "outputs": [],
   "source": [
    "# load vars\n",
    "\n",
    "CK = secrets[0].rstrip('\\n')\n",
    "CS = secrets[1].rstrip('\\n')\n",
    "AT = secrets[2].rstrip('\\n')\n",
    "AS = secrets[3].rstrip('\\n')"
   ]
  },
  {
   "cell_type": "code",
   "execution_count": 16,
   "metadata": {
    "collapsed": false
   },
   "outputs": [],
   "source": [
    "auth = tweepy.OAuthHandler(CK, CS)\n",
    "auth.set_access_token(AT, AS)\n",
    "api = tweepy.API(auth)"
   ]
  },
  {
   "cell_type": "code",
   "execution_count": 26,
   "metadata": {
    "collapsed": false
   },
   "outputs": [],
   "source": [
    "def get_all_tweets(screen_name):\n",
    "#Twitter only allows access to a users most recent 3240 tweets with this method\n",
    "   \n",
    "    auth = tweepy.OAuthHandler(CK, CS)\n",
    "    auth.set_access_token(AT, AS)\n",
    "    api = tweepy.API(auth)\n",
    "\n",
    "    #initialize a list to hold all the tweepy Tweets\n",
    "    alltweets = []\n",
    "\n",
    "    #make initial request for most recent tweets (200 is the maximum allowed count)\n",
    "    new_tweets = api.user_timeline(screen_name = screen_name,count=200)\n",
    "\n",
    "    #save most recent tweets\n",
    "    alltweets.extend(new_tweets)\n",
    "\n",
    "    #save the id of the oldest tweet less one\n",
    "    oldest = alltweets[-1].id - 1\n",
    "\n",
    "    #keep grabbing tweets until there are no tweets left to grab\n",
    "    while len(new_tweets) > 0:\n",
    "        \n",
    "\n",
    "        #all subsiquent requests use the max_id param to prevent duplicates\n",
    "        new_tweets = api.user_timeline(screen_name = screen_name,count=200,max_id=oldest)\n",
    "\n",
    "        #save most recent tweets\n",
    "        alltweets.extend(new_tweets)\n",
    "\n",
    "        #update the id of the oldest tweet less one\n",
    "        oldest = alltweets[-1].id - 1\n",
    "\n",
    "        #print \"...%s tweets downloaded so far\" % (len(alltweets))\n",
    "\n",
    "    #transform the tweepy tweets into a 2D array that will populate the csv\n",
    "    outtweets = [[tweet.id_str, tweet.created_at, tweet.text.encode(\"utf-8\")] for tweet in alltweets]\n",
    "\n",
    "        #write to df - then later to db\n",
    "    with open('%s_tweets.csv' % screen_name, 'wb') as ff:\n",
    "        writer = csv.writer(ff)\n",
    "        writer.writerow([\"id\",\"created_at\",\"text\"])\n",
    "        writer.writerows(outtweets)\n",
    "\n",
    "    pass\n",
    "\n",
    "\n",
    "#if __name__ == '__main__':\n",
    "    #pass in the username of the account you want to download\n",
    " #   get_all_tweets(\"J_tsar\")"
   ]
  },
  {
   "cell_type": "code",
   "execution_count": 28,
   "metadata": {
    "collapsed": false
   },
   "outputs": [
    {
     "name": "stdout",
     "output_type": "stream",
     "text": [
      "Why Startups Need Leaders, Not Bosses https://t.co/FWTML3sDAh\n",
      "The big question surrounding an immutable identity ledger is: Will it become a lifeline for people, or a burden? https://t.co/NFFI8EiV1B\n",
      "4 Requirements for Self-Serve Media Relations https://t.co/79IGcyQaP6\n",
      "Loyalty programs are ripe for some kind of disruptive innovation that would make them easier to use. https://t.co/N3jpwKAYDo\n",
      "Learn the Valuable Lesson of Curiosity https://t.co/jBOvpZMhva\n",
      "Tour Booking Platform Rezdy Raises $1.8 Million: Travel Startup Funding This Week https://t.co/4ruElqzG28\n",
      "Bedding startup raises $10M to try and keep up with high demand https://t.co/FWINgoYCsB\n",
      "Data analytics startup m.Paani raises $1.35 million in pre-series A round led by IDG Ventures https://t.co/K1UR67T9zx\n",
      "5 Surefire Ways to Get Clients to Pay on Time https://t.co/pzNKmyv1tX\n",
      "The results regarding work intensity and individual-based incentive pay should give managers pause. https://t.co/gXV8ZMwYb2\n"
     ]
    }
   ],
   "source": [
    "\n",
    "# or...just print em out to see what's there. \n",
    "for status in tweepy.Cursor(api.home_timeline).items(10):\n",
    "    # Process a single status\n",
    "    print(status.text)\n"
   ]
  },
  {
   "cell_type": "code",
   "execution_count": 41,
   "metadata": {
    "collapsed": false
   },
   "outputs": [
    {
     "ename": "NameError",
     "evalue": "name 'process_or_store' is not defined",
     "output_type": "error",
     "traceback": [
      "\u001b[0;31m---------------------------------------------------------------------------\u001b[0m",
      "\u001b[0;31mNameError\u001b[0m                                 Traceback (most recent call last)",
      "\u001b[0;32m<ipython-input-41-841aa13d5b58>\u001b[0m in \u001b[0;36m<module>\u001b[0;34m()\u001b[0m\n\u001b[1;32m      4\u001b[0m     \u001b[1;31m# Process a single status\u001b[0m\u001b[1;33m\u001b[0m\u001b[1;33m\u001b[0m\u001b[0m\n\u001b[1;32m      5\u001b[0m     \u001b[1;31m#json.dumps(status)\u001b[0m\u001b[1;33m\u001b[0m\u001b[1;33m\u001b[0m\u001b[0m\n\u001b[0;32m----> 6\u001b[0;31m     \u001b[0mprocess_or_store\u001b[0m\u001b[1;33m(\u001b[0m\u001b[0mstatus\u001b[0m\u001b[1;33m.\u001b[0m\u001b[0m_json\u001b[0m\u001b[1;33m)\u001b[0m\u001b[1;33m\u001b[0m\u001b[0m\n\u001b[0m",
      "\u001b[0;31mNameError\u001b[0m: name 'process_or_store' is not defined"
     ]
    }
   ],
   "source": [
    "from tweepy import OAuthHandler\n",
    "\n",
    "for status in tweepy.Cursor(api.home_timeline).items(10):\n",
    "    # Process a single status\n",
    "    #json.dumps(status)\n",
    "    process_or_store(status._json)\n"
   ]
  },
  {
   "cell_type": "code",
   "execution_count": null,
   "metadata": {
    "collapsed": true
   },
   "outputs": [],
   "source": []
  }
 ],
 "metadata": {
  "kernelspec": {
   "display_name": "Python 3",
   "language": "python",
   "name": "python3"
  },
  "language_info": {
   "codemirror_mode": {
    "name": "ipython",
    "version": 3
   },
   "file_extension": ".py",
   "mimetype": "text/x-python",
   "name": "python",
   "nbconvert_exporter": "python",
   "pygments_lexer": "ipython3",
   "version": "3.6.0"
  }
 },
 "nbformat": 4,
 "nbformat_minor": 2
}
