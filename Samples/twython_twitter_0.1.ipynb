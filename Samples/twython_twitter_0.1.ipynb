{
 "cells": [
  {
   "cell_type": "code",
   "execution_count": 10,
   "metadata": {
    "collapsed": false
   },
   "outputs": [
    {
     "data": {
      "text/plain": [
       "'\\n \\nUse Twitter API to grab user information from list of organizations;\\nexport text file\\n \\nUses Twython module to access Twitter API\\n \\n'"
      ]
     },
     "execution_count": 10,
     "metadata": {},
     "output_type": "execute_result"
    }
   ],
   "source": [
    "\"\"\"\n",
    " \n",
    "Use Twitter API to grab user information from list of organizations;\n",
    "export text file\n",
    " \n",
    "Uses Twython module to access Twitter API\n",
    " \n",
    "\"\"\"\n"
   ]
  },
  {
   "cell_type": "code",
   "execution_count": null,
   "metadata": {
    "collapsed": true
   },
   "outputs": [],
   "source": [
    "# REFERENCES\n",
    "# http://social-metrics.org/twitter-user-data/"
   ]
  },
  {
   "cell_type": "code",
   "execution_count": 2,
   "metadata": {
    "collapsed": false
   },
   "outputs": [
    {
     "name": "stdout",
     "output_type": "stream",
     "text": [
      "Collecting Twython\n",
      "  Downloading twython-3.4.0.tar.gz\n",
      "Requirement already satisfied: requests>=2.1.0 in c:\\users\\ling\\anaconda3\\lib\\site-packages (from Twython)\n",
      "Requirement already satisfied: requests_oauthlib>=0.4.0 in c:\\users\\ling\\anaconda3\\lib\\site-packages (from Twython)\n",
      "Requirement already satisfied: oauthlib>=0.6.2 in c:\\users\\ling\\anaconda3\\lib\\site-packages (from requests_oauthlib>=0.4.0->Twython)\n",
      "Building wheels for collected packages: Twython\n",
      "  Running setup.py bdist_wheel for Twython: started\n",
      "  Running setup.py bdist_wheel for Twython: finished with status 'done'\n",
      "  Stored in directory: C:\\Users\\ling\\AppData\\Local\\pip\\Cache\\wheels\\48\\e9\\f5\\a4c968725948c73f71df51a3c6759425358c1eda2dcf2031f4\n",
      "Successfully built Twython\n",
      "Installing collected packages: Twython\n",
      "Successfully installed Twython-3.4.0\n"
     ]
    }
   ],
   "source": [
    "!pip install Twython"
   ]
  },
  {
   "cell_type": "code",
   "execution_count": 3,
   "metadata": {
    "collapsed": false
   },
   "outputs": [],
   "source": [
    "import sys\n",
    "import string\n",
    "import simplejson\n",
    "from twython import Twython\n"
   ]
  },
  {
   "cell_type": "code",
   "execution_count": 7,
   "metadata": {
    "collapsed": true
   },
   "outputs": [],
   "source": [
    "import datetime\n",
    "now = datetime.datetime.now()\n",
    "day=int(now.day)\n",
    "month=int(now.month)\n",
    "year=int(now.year)\n"
   ]
  },
  {
   "cell_type": "code",
   "execution_count": 8,
   "metadata": {
    "collapsed": true
   },
   "outputs": [],
   "source": [
    "# read file\n",
    "\n",
    "with open(\"my_twitter_auth.txt\") as f:\n",
    "    secrets = f.readlines()\n",
    "f.close()"
   ]
  },
  {
   "cell_type": "code",
   "execution_count": 9,
   "metadata": {
    "collapsed": true
   },
   "outputs": [],
   "source": [
    "# load vars\n",
    "\n",
    "CK = secrets[0].rstrip('\\n')\n",
    "CS = secrets[1].rstrip('\\n')\n",
    "AT = secrets[2].rstrip('\\n')\n",
    "AS = secrets[3].rstrip('\\n')"
   ]
  },
  {
   "cell_type": "code",
   "execution_count": 16,
   "metadata": {
    "collapsed": true
   },
   "outputs": [],
   "source": [
    "t = Twython(app_key='CK', #REPLACE 'APP_KEY' WITH YOUR APP KEY, ETC., IN THE NEXT 4 LINES\n",
    "    app_secret='CS',\n",
    "    oauth_token='AT',\n",
    "    oauth_token_secret='AS')\n"
   ]
  },
  {
   "cell_type": "code",
   "execution_count": 18,
   "metadata": {
    "collapsed": true
   },
   "outputs": [],
   "source": [
    "# get the ids from twitter that you need.\n",
    "\n",
    "ids = \"4816,9715012,13023422, 13393052, 25435643345, 345354644, 14226882,  14235041, 14292458, 14335586, 14730894,\\\n",
    "    15029174, 15474846, 15634728, 15689319, 15782399, 15946841, 16116519, 16148677, 16223542,\\\n",
    "    16315120, 16566133, 16686673, 16801671, 41900627, 42645839, 42731742, 44157002, 44988185,\\\n",
    "    48073289, 48827616, 49702654, 50310311, 50361094,\"\n"
   ]
  },
  {
   "cell_type": "code",
   "execution_count": 19,
   "metadata": {
    "collapsed": false
   },
   "outputs": [
    {
     "ename": "TwythonAuthError",
     "evalue": "Twitter API returned a 401 (Unauthorized), Invalid or expired token.",
     "output_type": "error",
     "traceback": [
      "\u001b[0;31m---------------------------------------------------------------------------\u001b[0m",
      "\u001b[0;31mTwythonAuthError\u001b[0m                          Traceback (most recent call last)",
      "\u001b[0;32m<ipython-input-19-4146a1e85b74>\u001b[0m in \u001b[0;36m<module>\u001b[0;34m()\u001b[0m\n\u001b[1;32m      1\u001b[0m \u001b[1;31m#can look up max 100 with one api call\u001b[0m\u001b[1;33m\u001b[0m\u001b[1;33m\u001b[0m\u001b[0m\n\u001b[0;32m----> 2\u001b[0;31m \u001b[0musers\u001b[0m \u001b[1;33m=\u001b[0m \u001b[0mt\u001b[0m\u001b[1;33m.\u001b[0m\u001b[0mlookup_user\u001b[0m\u001b[1;33m(\u001b[0m\u001b[0muser_id\u001b[0m \u001b[1;33m=\u001b[0m \u001b[0mids\u001b[0m\u001b[1;33m)\u001b[0m\u001b[1;33m\u001b[0m\u001b[0m\n\u001b[0m",
      "\u001b[0;32mC:\\Users\\ling\\Anaconda3\\lib\\site-packages\\twython\\endpoints.py\u001b[0m in \u001b[0;36mlookup_user\u001b[0;34m(self, **params)\u001b[0m\n\u001b[1;32m    520\u001b[0m \u001b[1;33m\u001b[0m\u001b[0m\n\u001b[1;32m    521\u001b[0m         \"\"\"\n\u001b[0;32m--> 522\u001b[0;31m         \u001b[1;32mreturn\u001b[0m \u001b[0mself\u001b[0m\u001b[1;33m.\u001b[0m\u001b[0mget\u001b[0m\u001b[1;33m(\u001b[0m\u001b[1;34m'users/lookup'\u001b[0m\u001b[1;33m,\u001b[0m \u001b[0mparams\u001b[0m\u001b[1;33m=\u001b[0m\u001b[0mparams\u001b[0m\u001b[1;33m)\u001b[0m\u001b[1;33m\u001b[0m\u001b[0m\n\u001b[0m\u001b[1;32m    523\u001b[0m \u001b[1;33m\u001b[0m\u001b[0m\n\u001b[1;32m    524\u001b[0m     \u001b[1;32mdef\u001b[0m \u001b[0mshow_user\u001b[0m\u001b[1;33m(\u001b[0m\u001b[0mself\u001b[0m\u001b[1;33m,\u001b[0m \u001b[1;33m**\u001b[0m\u001b[0mparams\u001b[0m\u001b[1;33m)\u001b[0m\u001b[1;33m:\u001b[0m\u001b[1;33m\u001b[0m\u001b[0m\n",
      "\u001b[0;32mC:\\Users\\ling\\Anaconda3\\lib\\site-packages\\twython\\api.py\u001b[0m in \u001b[0;36mget\u001b[0;34m(self, endpoint, params, version)\u001b[0m\n\u001b[1;32m    262\u001b[0m     \u001b[1;32mdef\u001b[0m \u001b[0mget\u001b[0m\u001b[1;33m(\u001b[0m\u001b[0mself\u001b[0m\u001b[1;33m,\u001b[0m \u001b[0mendpoint\u001b[0m\u001b[1;33m,\u001b[0m \u001b[0mparams\u001b[0m\u001b[1;33m=\u001b[0m\u001b[1;32mNone\u001b[0m\u001b[1;33m,\u001b[0m \u001b[0mversion\u001b[0m\u001b[1;33m=\u001b[0m\u001b[1;34m'1.1'\u001b[0m\u001b[1;33m)\u001b[0m\u001b[1;33m:\u001b[0m\u001b[1;33m\u001b[0m\u001b[0m\n\u001b[1;32m    263\u001b[0m         \u001b[1;34m\"\"\"Shortcut for GET requests via :class:`request`\"\"\"\u001b[0m\u001b[1;33m\u001b[0m\u001b[0m\n\u001b[0;32m--> 264\u001b[0;31m         \u001b[1;32mreturn\u001b[0m \u001b[0mself\u001b[0m\u001b[1;33m.\u001b[0m\u001b[0mrequest\u001b[0m\u001b[1;33m(\u001b[0m\u001b[0mendpoint\u001b[0m\u001b[1;33m,\u001b[0m \u001b[0mparams\u001b[0m\u001b[1;33m=\u001b[0m\u001b[0mparams\u001b[0m\u001b[1;33m,\u001b[0m \u001b[0mversion\u001b[0m\u001b[1;33m=\u001b[0m\u001b[0mversion\u001b[0m\u001b[1;33m)\u001b[0m\u001b[1;33m\u001b[0m\u001b[0m\n\u001b[0m\u001b[1;32m    265\u001b[0m \u001b[1;33m\u001b[0m\u001b[0m\n\u001b[1;32m    266\u001b[0m     \u001b[1;32mdef\u001b[0m \u001b[0mpost\u001b[0m\u001b[1;33m(\u001b[0m\u001b[0mself\u001b[0m\u001b[1;33m,\u001b[0m \u001b[0mendpoint\u001b[0m\u001b[1;33m,\u001b[0m \u001b[0mparams\u001b[0m\u001b[1;33m=\u001b[0m\u001b[1;32mNone\u001b[0m\u001b[1;33m,\u001b[0m \u001b[0mversion\u001b[0m\u001b[1;33m=\u001b[0m\u001b[1;34m'1.1'\u001b[0m\u001b[1;33m)\u001b[0m\u001b[1;33m:\u001b[0m\u001b[1;33m\u001b[0m\u001b[0m\n",
      "\u001b[0;32mC:\\Users\\ling\\Anaconda3\\lib\\site-packages\\twython\\api.py\u001b[0m in \u001b[0;36mrequest\u001b[0;34m(self, endpoint, method, params, version)\u001b[0m\n\u001b[1;32m    256\u001b[0m \u001b[1;33m\u001b[0m\u001b[0m\n\u001b[1;32m    257\u001b[0m         content = self._request(url, method=method, params=params,\n\u001b[0;32m--> 258\u001b[0;31m                                 api_call=url)\n\u001b[0m\u001b[1;32m    259\u001b[0m \u001b[1;33m\u001b[0m\u001b[0m\n\u001b[1;32m    260\u001b[0m         \u001b[1;32mreturn\u001b[0m \u001b[0mcontent\u001b[0m\u001b[1;33m\u001b[0m\u001b[0m\n",
      "\u001b[0;32mC:\\Users\\ling\\Anaconda3\\lib\\site-packages\\twython\\api.py\u001b[0m in \u001b[0;36m_request\u001b[0;34m(self, url, method, params, api_call)\u001b[0m\n\u001b[1;32m    192\u001b[0m                 \u001b[0merror_message\u001b[0m\u001b[1;33m,\u001b[0m\u001b[1;33m\u001b[0m\u001b[0m\n\u001b[1;32m    193\u001b[0m                 \u001b[0merror_code\u001b[0m\u001b[1;33m=\u001b[0m\u001b[0mresponse\u001b[0m\u001b[1;33m.\u001b[0m\u001b[0mstatus_code\u001b[0m\u001b[1;33m,\u001b[0m\u001b[1;33m\u001b[0m\u001b[0m\n\u001b[0;32m--> 194\u001b[0;31m                 retry_after=response.headers.get('X-Rate-Limit-Reset'))\n\u001b[0m\u001b[1;32m    195\u001b[0m \u001b[1;33m\u001b[0m\u001b[0m\n\u001b[1;32m    196\u001b[0m         \u001b[1;32mtry\u001b[0m\u001b[1;33m:\u001b[0m\u001b[1;33m\u001b[0m\u001b[0m\n",
      "\u001b[0;31mTwythonAuthError\u001b[0m: Twitter API returned a 401 (Unauthorized), Invalid or expired token."
     ]
    }
   ],
   "source": [
    "#can look up max 100 with one api call\n",
    "users = t.lookup_user(user_id = ids)\n"
   ]
  },
  {
   "cell_type": "code",
   "execution_count": 20,
   "metadata": {
    "collapsed": true
   },
   "outputs": [],
   "source": [
    "outfn = \"twitter_user_data_%i.%i.%i.txt\" % (now.month, now.day, now.year)\n"
   ]
  },
  {
   "cell_type": "code",
   "execution_count": 17,
   "metadata": {
    "collapsed": false
   },
   "outputs": [
    {
     "ename": "AttributeError",
     "evalue": "module 'string' has no attribute 'join'",
     "output_type": "error",
     "traceback": [
      "\u001b[0;31m---------------------------------------------------------------------------\u001b[0m",
      "\u001b[0;31mAttributeError\u001b[0m                            Traceback (most recent call last)",
      "\u001b[0;32m<ipython-input-17-9aa4b846ec84>\u001b[0m in \u001b[0;36m<module>\u001b[0;34m()\u001b[0m\n\u001b[1;32m      2\u001b[0m \u001b[1;33m\u001b[0m\u001b[0m\n\u001b[1;32m      3\u001b[0m \u001b[0moutfp\u001b[0m \u001b[1;33m=\u001b[0m \u001b[0mopen\u001b[0m\u001b[1;33m(\u001b[0m\u001b[0moutfn\u001b[0m\u001b[1;33m,\u001b[0m \u001b[1;34m\"w\"\u001b[0m\u001b[1;33m)\u001b[0m\u001b[1;33m\u001b[0m\u001b[0m\n\u001b[0;32m----> 4\u001b[0;31m \u001b[0moutfp\u001b[0m\u001b[1;33m.\u001b[0m\u001b[0mwrite\u001b[0m\u001b[1;33m(\u001b[0m\u001b[0mstring\u001b[0m\u001b[1;33m.\u001b[0m\u001b[0mjoin\u001b[0m\u001b[1;33m(\u001b[0m\u001b[0mfields\u001b[0m\u001b[1;33m,\u001b[0m \u001b[1;34m\"\\t\"\u001b[0m\u001b[1;33m)\u001b[0m \u001b[1;33m+\u001b[0m \u001b[1;34m\"\\n\"\u001b[0m\u001b[1;33m)\u001b[0m  \u001b[1;31m# header\u001b[0m\u001b[1;33m\u001b[0m\u001b[0m\n\u001b[0m",
      "\u001b[0;31mAttributeError\u001b[0m: module 'string' has no attribute 'join'"
     ]
    }
   ],
   "source": [
    "fields = \"id screen_name name created_at url followers_count friends_count statuses_count \\\n",
    "    favourites_count listed_count \\\n",
    "    contributors_enabled description protected location lang expanded_url\".split()\n",
    " \n",
    "outfp = open(outfn, \"w\")\n",
    "outfp.write(string.join(fields, \"\\t\") + \"\\n\")  # header\n"
   ]
  },
  {
   "cell_type": "code",
   "execution_count": null,
   "metadata": {
    "collapsed": true
   },
   "outputs": [],
   "source": [
    "for entry in users:\n",
    "    #CREATE EMPTY DICTIONARY\n",
    "    r = {}\n",
    "    for f in fields:\n",
    "        r[f] = \"\"\n",
    "    #ASSIGN VALUE OF 'ID' FIELD IN JSON TO 'ID' FIELD IN OUR DICTIONARY\n",
    "    r['id'] = entry['id']\n",
    "    #SAME WITH 'SCREEN_NAME' HERE, AND FOR REST OF THE VARIABLES\n",
    "    r['screen_name'] = entry['screen_name']\n"
   ]
  }
 ],
 "metadata": {
  "kernelspec": {
   "display_name": "Python 3",
   "language": "python",
   "name": "python3"
  },
  "language_info": {
   "codemirror_mode": {
    "name": "ipython",
    "version": 3
   },
   "file_extension": ".py",
   "mimetype": "text/x-python",
   "name": "python",
   "nbconvert_exporter": "python",
   "pygments_lexer": "ipython3",
   "version": "3.6.0"
  }
 },
 "nbformat": 4,
 "nbformat_minor": 2
}
